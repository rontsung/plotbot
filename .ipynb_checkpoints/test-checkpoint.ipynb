{
 "cells": [
  {
   "cell_type": "code",
   "execution_count": 166,
   "metadata": {
    "collapsed": true
   },
   "outputs": [],
   "source": [
    "import matplotlib.pyplot as plt\n",
    "import pandas as pd\n",
    "import tweepy\n",
    "from vaderSentiment.vaderSentiment import SentimentIntensityAnalyzer\n",
    "import time\n",
    "from datetime import datetime"
   ]
  },
  {
   "cell_type": "code",
   "execution_count": 34,
   "metadata": {},
   "outputs": [],
   "source": [
    "# Twitter API Keys\n",
    "consumer_key = \"f7PaQ0IQ8ChJMdAwHkSbzBnzP\"\n",
    "consumer_secret = \"qHNLfBiaPfOQ5Rqrp4nMGsWaxm6mVZOqznREWkR2q0LBcKQKNI\"\n",
    "access_token = \"922262061664690179-Igw7ycjlG5hbh5C6uyOwo2YXsCqRmJ4\"\n",
    "access_token_secret = \"C0s2qYHKkd46etovc9KxN8EXJDRO6g6NCFCEbUC1NjSnC\"\n",
    "\n",
    "# Twitter credentials\n",
    "auth = tweepy.OAuthHandler(consumer_key, consumer_secret)\n",
    "auth.set_access_token(access_token, access_token_secret)\n",
    "api = tweepy.API(auth, parser=tweepy.parsers.JSONParser(), wait_on_rate_limit = True, wait_on_rate_limit_notify = True)\n",
    "\n",
    "#Sentiment Analyzer\n",
    "analyzer = SentimentIntensityAnalyzer()"
   ]
  },
  {
   "cell_type": "code",
   "execution_count": 167,
   "metadata": {
    "collapsed": true
   },
   "outputs": [],
   "source": [
    "def plotbot():\n",
    "    print(\"start\")\n",
    "    #Search for the mentions\n",
    "    mentions = api.search(\"@sentient_ronbot\", count=1, result_type=\"recent\")\n",
    "    print(\"found mentions\")\n",
    "    try:\n",
    "        for tweet in mentions[\"statuses\"]:\n",
    "            validate = False\n",
    "            text = tweet[\"text\"]\n",
    "            stpt = text.find(\"@\",text.find(\"@\")+1)+1\n",
    "            user = text[stpt:]\n",
    "            print(user)\n",
    "            print(len(user))\n",
    "            if len(user) > 1:\n",
    "                #check if bot has already analyzed the user\n",
    "                validate = CheckUser(user)\n",
    "                print(validate)\n",
    "                if validate == True:\n",
    "                    print(\"validated\")\n",
    "                    thanks = tweet[\"user\"][\"screen_name\"]\n",
    "                    print(thanks)\n",
    "                    #perform analysis\n",
    "                    anlyz(user, thanks)\n",
    "                    break\n",
    "                else:\n",
    "                    return print(\"already analyzed\")\n",
    "    except:\n",
    "        return print(\"nothing happened\")\n",
    "    #store record of analysis of user in csv\n",
    "    arr = pd.read_csv(\"tea.csv\")\n",
    "    cur = len(arr)\n",
    "    arr.set_value(cur, \"User\", user)\n",
    "    arr.set_value(cur, \"Thanks\", thanks)\n",
    "    arr.set_value(cur, \"Time\", str(datetime.now()))\n",
    "    arr.to_csv(\"tea.csv\", index = False)\n",
    "    return print(\"woo\") "
   ]
  },
  {
   "cell_type": "code",
   "execution_count": 168,
   "metadata": {
    "collapsed": true
   },
   "outputs": [],
   "source": [
    "def anlyz(u,t):\n",
    "    print(\"analyzing\")\n",
    "    i = 0\n",
    "    k = 0\n",
    "    df = pd.DataFrame({})\n",
    "    df[\"tweet\"] = \"\"\n",
    "    df[\"polarity\"] = \"\"\n",
    "    df[\"tweet ago\"] = \"\"\n",
    "    base = api.user_timeline(screen_name = u, count = 1)\n",
    "    #find max id to avoid potential overlap\n",
    "    for tweet in base:\n",
    "        print(json.dumps(tweet, sort_keys=True, indent=4, separators=(',', ': ')))\n",
    "        m_id = tweet[\"id_str\"]\n",
    "        print(m_id)\n",
    "    #retrieve tweets, analyze text, store in dataframe\n",
    "    for v in range(1,6):\n",
    "        timeline = api.user_timeline(screen_name = u, count = 100, max_id = m_id, page = v)\n",
    "        for tweet in timeline:\n",
    "            text = tweet[\"text\"]\n",
    "            print(text)\n",
    "            polar = analyzer.polarity_scores(text)[\"compound\"]\n",
    "            print(polar)\n",
    "            df.set_value(i, \"tweet\", text)\n",
    "            df.set_value(i, \"polarity\", polar)\n",
    "            df.set_value(i, \"tweet ago\", k)\n",
    "            i = i + 1\n",
    "            k = k - 1\n",
    "            print(k)\n",
    "    #plot results\n",
    "    plt.clf()\n",
    "    plt.plot(df[\"tweet ago\"], df[\"polarity\"], marker = \"o\", linewidth = .5, label = \"@\"+str(u))\n",
    "    plt.ylim(-1.03, 1.03)\n",
    "    plt.title(\"Sentiment Analysis of Tweets \\n (\" + str(datetime.now())[:str(datetime.now()).find(\" \")]+\")\")\n",
    "    plt.ylabel(\"Tweet Sentiment Score\")\n",
    "    plt.xlabel(\"Tweets Ago\")\n",
    "    plt.legend(title = \"Tweets\", loc = \"best\", bbox_to_anchor=(1.13, 1.18), fontsize = \"small\")\n",
    "    plt.grid(True)\n",
    "    plt.savefig(\"plot.png\")\n",
    "    med_id = api.media_upload(\"plot.png\")\n",
    "    status = \"New tweet analysis: @\" + str(u) + \" (thanks @\" + str(t) + \"!)\"\n",
    "    api.update_status(status, media_ids = [med_id[\"media_id\"]])\n",
    "    print(\"success!\")"
   ]
  },
  {
   "cell_type": "code",
   "execution_count": 5,
   "metadata": {
    "collapsed": true
   },
   "outputs": [],
   "source": [
    "def CheckUser(a):\n",
    "    record = pd.read_csv(\"tea.csv\")\n",
    "    for each in record[\"User\"]:\n",
    "        if each == a:\n",
    "            return False\n",
    "    return True"
   ]
  },
  {
   "cell_type": "code",
   "execution_count": 170,
   "metadata": {},
   "outputs": [
    {
     "name": "stdout",
     "output_type": "stream",
     "text": [
      "plotbot go\n",
      "start\n",
      "found mentions\n",
      "JoeBiden\n",
      "8\n",
      "nothing happened\n",
      "complete\n"
     ]
    },
    {
     "ename": "KeyboardInterrupt",
     "evalue": "",
     "output_type": "error",
     "traceback": [
      "\u001b[0;31m---------------------------------------------------------------------------\u001b[0m",
      "\u001b[0;31mKeyboardInterrupt\u001b[0m                         Traceback (most recent call last)",
      "\u001b[0;32m<ipython-input-170-912eae3de6e7>\u001b[0m in \u001b[0;36m<module>\u001b[0;34m()\u001b[0m\n\u001b[1;32m      4\u001b[0m     \u001b[0mplotbot\u001b[0m\u001b[0;34m(\u001b[0m\u001b[0;34m)\u001b[0m\u001b[0;34m\u001b[0m\u001b[0m\n\u001b[1;32m      5\u001b[0m     \u001b[0mprint\u001b[0m\u001b[0;34m(\u001b[0m\u001b[0;34m\"complete\"\u001b[0m\u001b[0;34m)\u001b[0m\u001b[0;34m\u001b[0m\u001b[0m\n\u001b[0;32m----> 6\u001b[0;31m     \u001b[0mtime\u001b[0m\u001b[0;34m.\u001b[0m\u001b[0msleep\u001b[0m\u001b[0;34m(\u001b[0m\u001b[0;36m300\u001b[0m\u001b[0;34m)\u001b[0m\u001b[0;34m\u001b[0m\u001b[0m\n\u001b[0m",
      "\u001b[0;31mKeyboardInterrupt\u001b[0m: "
     ]
    }
   ],
   "source": [
    "# Set timer to run every 5 minutes\n",
    "while(True):\n",
    "    print(\"plotbot go\")\n",
    "    plotbot()\n",
    "    print(\"complete\")\n",
    "    time.sleep(300)"
   ]
  },
  {
   "cell_type": "code",
   "execution_count": 28,
   "metadata": {},
   "outputs": [
    {
     "data": {
      "text/plain": [
       "{'contributors': None,\n",
       " 'coordinates': None,\n",
       " 'created_at': 'Sun Nov 05 17:15:04 +0000 2017',\n",
       " 'entities': {'hashtags': [],\n",
       "  'media': [{'display_url': 'pic.twitter.com/dooYgbtcFT',\n",
       "    'expanded_url': 'https://twitter.com/sentient_ronbot/status/927222745938702337/photo/1',\n",
       "    'id': 927222737327874048,\n",
       "    'id_str': '927222737327874048',\n",
       "    'indices': [36, 59],\n",
       "    'media_url': 'http://pbs.twimg.com/media/DN4oKr4X4AAKHGr.jpg',\n",
       "    'media_url_https': 'https://pbs.twimg.com/media/DN4oKr4X4AAKHGr.jpg',\n",
       "    'sizes': {'large': {'h': 288, 'resize': 'fit', 'w': 432},\n",
       "     'medium': {'h': 288, 'resize': 'fit', 'w': 432},\n",
       "     'small': {'h': 288, 'resize': 'fit', 'w': 432},\n",
       "     'thumb': {'h': 150, 'resize': 'crop', 'w': 150}},\n",
       "    'type': 'photo',\n",
       "    'url': 'https://t.co/dooYgbtcFT'}],\n",
       "  'symbols': [],\n",
       "  'urls': [],\n",
       "  'user_mentions': [{'id': 22005817,\n",
       "    'id_str': '22005817',\n",
       "    'indices': [20, 22],\n",
       "    'name': 'u',\n",
       "    'screen_name': 'u'},\n",
       "   {'id': 11628,\n",
       "    'id_str': '11628',\n",
       "    'indices': [31, 33],\n",
       "    'name': '🌈',\n",
       "    'screen_name': 't'}]},\n",
       " 'extended_entities': {'media': [{'display_url': 'pic.twitter.com/dooYgbtcFT',\n",
       "    'expanded_url': 'https://twitter.com/sentient_ronbot/status/927222745938702337/photo/1',\n",
       "    'id': 927222737327874048,\n",
       "    'id_str': '927222737327874048',\n",
       "    'indices': [36, 59],\n",
       "    'media_url': 'http://pbs.twimg.com/media/DN4oKr4X4AAKHGr.jpg',\n",
       "    'media_url_https': 'https://pbs.twimg.com/media/DN4oKr4X4AAKHGr.jpg',\n",
       "    'sizes': {'large': {'h': 288, 'resize': 'fit', 'w': 432},\n",
       "     'medium': {'h': 288, 'resize': 'fit', 'w': 432},\n",
       "     'small': {'h': 288, 'resize': 'fit', 'w': 432},\n",
       "     'thumb': {'h': 150, 'resize': 'crop', 'w': 150}},\n",
       "    'type': 'photo',\n",
       "    'url': 'https://t.co/dooYgbtcFT'}]},\n",
       " 'favorite_count': 0,\n",
       " 'favorited': False,\n",
       " 'geo': None,\n",
       " 'id': 927222745938702337,\n",
       " 'id_str': '927222745938702337',\n",
       " 'in_reply_to_screen_name': None,\n",
       " 'in_reply_to_status_id': None,\n",
       " 'in_reply_to_status_id_str': None,\n",
       " 'in_reply_to_user_id': None,\n",
       " 'in_reply_to_user_id_str': None,\n",
       " 'is_quote_status': False,\n",
       " 'lang': 'en',\n",
       " 'place': None,\n",
       " 'possibly_sensitive': False,\n",
       " 'retweet_count': 0,\n",
       " 'retweeted': False,\n",
       " 'source': '<a href=\"https://www.google.com\" rel=\"nofollow\">sentience222</a>',\n",
       " 'text': 'New tweet analysis: @u (thanks @t!) https://t.co/dooYgbtcFT',\n",
       " 'truncated': False,\n",
       " 'user': {'contributors_enabled': False,\n",
       "  'created_at': 'Mon Oct 23 00:43:05 +0000 2017',\n",
       "  'default_profile': True,\n",
       "  'default_profile_image': True,\n",
       "  'description': '',\n",
       "  'entities': {'description': {'urls': []}},\n",
       "  'favourites_count': 0,\n",
       "  'follow_request_sent': False,\n",
       "  'followers_count': 0,\n",
       "  'following': False,\n",
       "  'friends_count': 0,\n",
       "  'geo_enabled': False,\n",
       "  'has_extended_profile': False,\n",
       "  'id': 922262061664690179,\n",
       "  'id_str': '922262061664690179',\n",
       "  'is_translation_enabled': False,\n",
       "  'is_translator': False,\n",
       "  'lang': 'en',\n",
       "  'listed_count': 0,\n",
       "  'location': '',\n",
       "  'name': 'ronbot',\n",
       "  'notifications': False,\n",
       "  'profile_background_color': 'F5F8FA',\n",
       "  'profile_background_image_url': None,\n",
       "  'profile_background_image_url_https': None,\n",
       "  'profile_background_tile': False,\n",
       "  'profile_image_url': 'http://abs.twimg.com/sticky/default_profile_images/default_profile_normal.png',\n",
       "  'profile_image_url_https': 'https://abs.twimg.com/sticky/default_profile_images/default_profile_normal.png',\n",
       "  'profile_link_color': '1DA1F2',\n",
       "  'profile_sidebar_border_color': 'C0DEED',\n",
       "  'profile_sidebar_fill_color': 'DDEEF6',\n",
       "  'profile_text_color': '333333',\n",
       "  'profile_use_background_image': True,\n",
       "  'protected': False,\n",
       "  'screen_name': 'sentient_ronbot',\n",
       "  'statuses_count': 2,\n",
       "  'time_zone': None,\n",
       "  'translator_type': 'none',\n",
       "  'url': None,\n",
       "  'utc_offset': None,\n",
       "  'verified': False}}"
      ]
     },
     "execution_count": 28,
     "metadata": {},
     "output_type": "execute_result"
    }
   ],
   "source": [
    "med_id = api.media_upload(\"plot.png\")\n",
    "status = \"New tweet analysis: @\" + str('u') + \" (thanks @\" + str('t') + \"!)\"\n",
    "med_id[\"media_id\"]\n",
    "api.update_status(status, media_ids = [med_id[\"media_id\"]])"
   ]
  },
  {
   "cell_type": "code",
   "execution_count": 97,
   "metadata": {},
   "outputs": [],
   "source": [
    "#     plt.figure(figsize=(8,13))\n",
    "#     box = yu.get_position()\n",
    "#     yu.set_position([box.x0, box.y0, box.width * 0.8, box.height])\n",
    "#     plot_margin = 100\n",
    "\n",
    "#     x0, x1, y0, y1 = plt.axis()\n",
    "#     plt.axis((x0 + plot_margin,\n",
    "#               x1 + plot_margin,\n",
    "#               y0 - plot_margin,\n",
    "#               y1 + plot_margin))\n",
    "plt.plot([x for x in range(1,601)], [y for y in range(-300,300)], marker = \"o\", linewidth = .5)\n",
    "plt.margins(xmargin = 3)\n",
    "plt.xlim(1,650)\n",
    "plt.ylim(-350,350)\n",
    "plt.ylabel(\"Tweet Polarity\")\n",
    "plt.xlabel(\"Tweets ago\")\n",
    "plt.legend(['@realDonaldTrump'], title = \"Tweets\", loc = \"best\", bbox_to_anchor=(1.07, 1.18))\n",
    "plt.title(\"Sentiment Analysis of Tweets \\n (\" + str(datetime.now())[:str(datetime.now()).find(\" \")]+\")\")\n",
    "plt.savefig(\"dd.png\")\n",
    "#     plt.show()"
   ]
  },
  {
   "cell_type": "code",
   "execution_count": 145,
   "metadata": {},
   "outputs": [],
   "source": [
    "plt.clf()\n",
    "plt.plot([x for x in range(1,601)], [y for y in range(-300,300)], marker = \"o\", linewidth = .5, label = \"@realDonaldTrump\")\n",
    "plt.xlim(1,650)\n",
    "plt.ylim(-350,350)\n",
    "plt.ylabel(\"Tweet Polarity\")\n",
    "plt.xlabel(\"Tweets ago\")\n",
    "plt.legend(title = \"Tweets\", loc = \"best\", bbox_to_anchor=(1.13, 1.18), fontsize = \"small\")\n",
    "# plt.legend(['@realDonaldTrump'], title = \"Tweets\", bbox_to_anchor=(1.15, 1.18), fontsize = \"small\")\n",
    "plt.title(\"Sentiment Analysis of Tweets \\n (\" + str(datetime.now())[:str(datetime.now()).find(\" \")]+\")\")\n",
    "plt.savefig(\"dd.png\")"
   ]
  },
  {
   "cell_type": "code",
   "execution_count": 87,
   "metadata": {},
   "outputs": [
    {
     "ename": "TypeError",
     "evalue": "'float' object cannot be interpreted as an integer",
     "output_type": "error",
     "traceback": [
      "\u001b[0;31m---------------------------------------------------------------------------\u001b[0m",
      "\u001b[0;31mTypeError\u001b[0m                                 Traceback (most recent call last)",
      "\u001b[0;32m<ipython-input-87-f789a7e0e26b>\u001b[0m in \u001b[0;36m<module>\u001b[0;34m()\u001b[0m\n\u001b[0;32m----> 1\u001b[0;31m \u001b[0;34m[\u001b[0m\u001b[0my\u001b[0m \u001b[0;32mfor\u001b[0m \u001b[0my\u001b[0m \u001b[0;32min\u001b[0m \u001b[0mrange\u001b[0m\u001b[0;34m(\u001b[0m\u001b[0;34m-\u001b[0m\u001b[0;36m1\u001b[0m\u001b[0;34m,\u001b[0m\u001b[0;36m1\u001b[0m\u001b[0;34m,\u001b[0m\u001b[0;36m1\u001b[0m\u001b[0;34m/\u001b[0m\u001b[0;36m500\u001b[0m\u001b[0;34m)\u001b[0m\u001b[0;34m]\u001b[0m\u001b[0;34m\u001b[0m\u001b[0m\n\u001b[0m",
      "\u001b[0;31mTypeError\u001b[0m: 'float' object cannot be interpreted as an integer"
     ]
    }
   ],
   "source": [
    "[y for y in range(-1,1,1/500)]"
   ]
  },
  {
   "cell_type": "code",
   "execution_count": 160,
   "metadata": {},
   "outputs": [],
   "source": [
    "dffd = pd.DataFrame({})\n",
    "dffd[\"User\"] = \"\"\n",
    "dffd[\"Thanks\"] = \"\"\n",
    "dffd[\"Time\"] = \"\"\n",
    "dffd.set_value(0, \"Time\", str(datetime.now()))\n",
    "dffd.set_value(0, \"User\", \"sentient_ronbot\")\n",
    "dffd.set_value(0, \"Thanks\", \"sentient_ronbot\")\n",
    "dffd.to_csv(\"tea.csv\", index = False)"
   ]
  },
  {
   "cell_type": "code",
   "execution_count": null,
   "metadata": {
    "collapsed": true
   },
   "outputs": [],
   "source": []
  }
 ],
 "metadata": {
  "kernelspec": {
   "display_name": "Python [default]",
   "language": "python",
   "name": "python3"
  },
  "language_info": {
   "codemirror_mode": {
    "name": "ipython",
    "version": 3
   },
   "file_extension": ".py",
   "mimetype": "text/x-python",
   "name": "python",
   "nbconvert_exporter": "python",
   "pygments_lexer": "ipython3",
   "version": "3.6.1"
  }
 },
 "nbformat": 4,
 "nbformat_minor": 2
}
